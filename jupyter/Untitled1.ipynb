{
 "cells": [
  {
   "cell_type": "code",
   "execution_count": null,
   "id": "4d2b601e",
   "metadata": {},
   "outputs": [],
   "source": [
    "import bs4\n",
    "import requests\n"
   ]
  },
  {
   "cell_type": "code",
   "execution_count": null,
   "id": "def087eb",
   "metadata": {},
   "outputs": [],
   "source": [
    "soup = bs4.BeautifulSoup"
   ]
  },
  {
   "cell_type": "code",
   "execution_count": null,
   "id": "992026ae",
   "metadata": {},
   "outputs": [],
   "source": [
    "response = requests.get(\"https://punchng.com/?s=banditry+and+kidnapping\")"
   ]
  },
  {
   "cell_type": "code",
   "execution_count": null,
   "id": "051fdf33",
   "metadata": {},
   "outputs": [],
   "source": [
    "categories = soup(response.text).find_all(\"p\")\n",
    "categories"
   ]
  },
  {
   "cell_type": "code",
   "execution_count": null,
   "id": "6058ea95",
   "metadata": {},
   "outputs": [],
   "source": []
  },
  {
   "cell_type": "code",
   "execution_count": null,
   "id": "3dfdf9fb",
   "metadata": {},
   "outputs": [],
   "source": []
  }
 ],
 "metadata": {
  "kernelspec": {
   "display_name": "Python 3 (ipykernel)",
   "language": "python",
   "name": "python3"
  }
 },
 "nbformat": 4,
 "nbformat_minor": 5
}
